{
  "nbformat": 4,
  "nbformat_minor": 0,
  "metadata": {
    "accelerator": "GPU",
    "colab": {
      "name": "lovecraft gpt2.ipynb",
      "provenance": [],
      "collapsed_sections": [],
      "machine_shape": "hm"
    },
    "kernelspec": {
      "display_name": "Python 3",
      "name": "python3"
    },
    "language_info": {
      "name": "python"
    }
  },
  "cells": [
    {
      "cell_type": "markdown",
      "metadata": {
        "id": "T-8b_qNAIJur"
      },
      "source": [
        "# H.P. Lovecraft Language Generation using GPT-2\n",
        "## Dr. Tristan Behrens (https://www.linkedin.com/in/dr-tristan-behrens-734967a2/)\n",
        "\n",
        "Trains a Neural Network on the collected works by H.P. Lovecraft."
      ]
    },
    {
      "cell_type": "markdown",
      "metadata": {
        "id": "AclgU1pG3hRJ"
      },
      "source": [
        "# TODOs.\n",
        "\n",
        "- [ ] Do I need sequenze length in tokenizers?\n",
        "- [ ] Is the model big enough?\n",
        "- [ ] Is the implementation sound?"
      ]
    },
    {
      "cell_type": "markdown",
      "metadata": {
        "id": "vTjhK1GISpNP"
      },
      "source": [
        "- https://towardsdatascience.com/train-gpt-2-in-your-own-language-fc6ad4d60171\n",
        "- https://discuss.huggingface.co/t/gpt2-training-from-scratch-in-german/1157"
      ]
    },
    {
      "cell_type": "code",
      "metadata": {
        "id": "eff6x6jaPkN7"
      },
      "source": [
        "!pip install --upgrade transformers datasets"
      ],
      "execution_count": null,
      "outputs": []
    },
    {
      "cell_type": "markdown",
      "metadata": {
        "id": "pg2NGc-LIOtu"
      },
      "source": [
        "## Count the number of available GPUs."
      ]
    },
    {
      "cell_type": "code",
      "metadata": {
        "id": "KEbUzL09RIt8"
      },
      "source": [
        "import tensorflow as tf\n",
        "\n",
        "physical_devices = tf.config.list_physical_devices('GPU')\n",
        "print(\"Num GPUs:\", len(physical_devices))"
      ],
      "execution_count": null,
      "outputs": []
    },
    {
      "cell_type": "markdown",
      "metadata": {
        "id": "R5gSmK4mIUYt"
      },
      "source": [
        "## Download the corpus."
      ]
    },
    {
      "cell_type": "code",
      "metadata": {
        "id": "xlGmRw19zxK-"
      },
      "source": [
        "import os\n",
        "\n",
        "if not os.path.exists(\"lovecraftcorpus\"):\n",
        "    !git clone https://github.com/vilmibm/lovecraftcorpus"
      ],
      "execution_count": null,
      "outputs": []
    },
    {
      "cell_type": "code",
      "metadata": {
        "id": "qYl0rii6z1Ig"
      },
      "source": [
        "!ls lovecraftcorpus"
      ],
      "execution_count": null,
      "outputs": []
    },
    {
      "cell_type": "markdown",
      "metadata": {
        "id": "j1K8uoClIYFg"
      },
      "source": [
        "## Create the tokenizer."
      ]
    },
    {
      "cell_type": "code",
      "metadata": {
        "id": "3G-KFq6MvW74"
      },
      "source": [
        "from tokenizers import ByteLevelBPETokenizer\n",
        "from tokenizers.pre_tokenizers import Whitespace\n",
        "from transformers import GPT2TokenizerFast\n",
        "import os\n",
        "import glob\n",
        "\n",
        "# Get the paths.\n",
        "# TODO: Is this enough data?\n",
        "paths = glob.glob(\"lovecraftcorpus/*.txt\")\n",
        "print(paths)\n",
        "\n",
        "# Create the tokenizer.\n",
        "tokenizer = ByteLevelBPETokenizer()\n",
        "tokenizer.pre_tokenizer = Whitespace()\n",
        "\n",
        "# Train the tokenizer.\n",
        "# TODO: Do we need the endoftext token?\n",
        "print(\"Training tokenizer...\")\n",
        "tokenizer.train(\n",
        "    files=paths, \n",
        "    vocab_size=10000, \n",
        "    min_frequency=2, \n",
        "    special_tokens=[\"<|endoftext|>\"])\n",
        "print(\"Done.\")\n",
        "\n",
        "# Get sequence length max of 1024\n",
        "tokenizer.enable_truncation(max_length=1024)\n",
        "\n",
        "# Save tokenizer.\n",
        "tokenizer_path = \"tokenizer\"\n",
        "if not os.path.exists(tokenizer_path):\n",
        "    os.mkdir(tokenizer_path)\n",
        "tokenizer.save_model(tokenizer_path)\n",
        "\n",
        "# Turn into pretrained tokenizer that can be used during training.\n",
        "tokenizer = GPT2TokenizerFast.from_pretrained(\n",
        "    tokenizer_path, \n",
        "    pad_token=\"<|endoftext|>\")\n",
        "tokenizer.model_max_length = 1024"
      ],
      "execution_count": null,
      "outputs": []
    },
    {
      "cell_type": "markdown",
      "metadata": {
        "id": "AxmLTuKuIvkr"
      },
      "source": [
        "## Tokenize some text."
      ]
    },
    {
      "cell_type": "code",
      "metadata": {
        "id": "cGfcZAVWxWRD"
      },
      "source": [
        "text = \"Today is a great day to be creative.\"\n",
        "indices = tokenizer.encode(text)\n",
        "len(text), len(indices), indices"
      ],
      "execution_count": null,
      "outputs": []
    },
    {
      "cell_type": "markdown",
      "metadata": {
        "id": "VcwS4Wb_JJ7j"
      },
      "source": [
        "## Prepare the datasets."
      ]
    },
    {
      "cell_type": "code",
      "metadata": {
        "id": "RVYtl-AaJFMQ"
      },
      "source": [
        "from datasets import load_dataset\n",
        "from transformers import DataCollatorForLanguageModeling\n",
        "\n",
        "# Split dataset into train and test.\n",
        "split_index = int(0.9 * len(paths))\n",
        "train_paths = paths[:split_index]\n",
        "test_paths = paths[split_index:]\n",
        "dataset = load_dataset(\"text\", data_files={\"train\": train_paths, \"test\": test_paths})\n",
        "\n",
        "# Inspect.\n",
        "print(\"Dataset:\", dataset)\n",
        "print(\"Sample:\", dataset[\"train\"][10])\n",
        "\n",
        "# Tokenize the dataset.\n",
        "dataset = dataset.map(lambda batch: tokenizer(batch[\"text\"], truncation=True, padding=True), batched=True)\n",
        "\n",
        "# Set pytorch format.\n",
        "dataset.set_format(\"torch\", columns=[\"input_ids\", \"attention_mask\"])\n",
        "\n",
        "# Inspect.\n",
        "print(\"Dataset:\", dataset)\n",
        "print(\"Sample:\", dataset[\"train\"][10])\n",
        "\n",
        "# Create a data collator.\n",
        "# TODO: Is this really necessary?\n",
        "data_collator = DataCollatorForLanguageModeling(\n",
        "    tokenizer=tokenizer, mlm=False,\n",
        ")"
      ],
      "execution_count": null,
      "outputs": []
    },
    {
      "cell_type": "markdown",
      "metadata": {
        "id": "PqFNeF1JJ-4L"
      },
      "source": [
        "## Create the model."
      ]
    },
    {
      "cell_type": "code",
      "metadata": {
        "id": "QyViGNLdP7K5"
      },
      "source": [
        "from transformers import GPT2Config, GPT2LMHeadModel, GPT2Tokenizer\n",
        "\n",
        "# creating the configurations from which the model can be made\n",
        "config = GPT2Config(\n",
        "    vocab_size=tokenizer.vocab_size,\n",
        "    bos_token_id=tokenizer.bos_token_id,\n",
        "    eos_token_id=tokenizer.eos_token_id,\n",
        "    n_head=8,\n",
        "    n_layer=6,\n",
        "    n_embd=512,\n",
        "    n_positions=1024\n",
        ")\n",
        "#config = GPT2Config(\n",
        "#    vocab_size=tokenizer.vocab_size,\n",
        "#    bos_token_id=tokenizer.bos_token_id,\n",
        "#    eos_token_id=tokenizer.eos_token_id,\n",
        "#    n_head=4,\n",
        "#    n_layer=4,\n",
        "#    n_embd=128,\n",
        "#    n_positions=512\n",
        "#)\n",
        "print(config)\n",
        "\n",
        "# creating the model\n",
        "model = GPT2LMHeadModel(config)"
      ],
      "execution_count": null,
      "outputs": []
    },
    {
      "cell_type": "markdown",
      "metadata": {
        "id": "-ehUr1BPKJFt"
      },
      "source": [
        "## Train the model."
      ]
    },
    {
      "cell_type": "code",
      "metadata": {
        "id": "E-BZr24iKIDt"
      },
      "source": [
        "from transformers import Trainer, TrainingArguments\n",
        "\n",
        "training_arguments = TrainingArguments(\n",
        "    output_dir=\"./output\",\n",
        "    overwrite_output_dir=True,\n",
        "    num_train_epochs=50,\n",
        "    per_device_train_batch_size=10,\n",
        "    eval_steps=500,\n",
        "    evaluation_strategy=\"steps\",\n",
        "    save_steps=500,\n",
        "    save_total_limit=20,\n",
        ")\n",
        "print(training_arguments)\n",
        "\n",
        "trainer = Trainer(\n",
        "    model=model,\n",
        "    args=training_arguments,\n",
        "    data_collator=data_collator,\n",
        "    train_dataset=dataset[\"train\"],\n",
        "    eval_dataset=dataset[\"test\"]\n",
        ")\n",
        "\n",
        "trainer.train()"
      ],
      "execution_count": null,
      "outputs": []
    },
    {
      "cell_type": "markdown",
      "metadata": {
        "id": "oCt_qVOpKOlC"
      },
      "source": [
        "## Generate some text."
      ]
    },
    {
      "cell_type": "code",
      "metadata": {
        "id": "SVDLPXaZSKic"
      },
      "source": [
        "text = \"A\"\n",
        "input_ids = tokenizer.encode(text, return_tensors='pt').cuda()# getting out output\n",
        "beam_outputs = model.generate(\n",
        "  input_ids,\n",
        "  max_length = 100,\n",
        "  #num_beams = 5,\n",
        "  temperature = 1.01,\n",
        "  #no_repeat_ngram_size=2,\n",
        "  #num_return_sequences=5\n",
        ")\n",
        "\n",
        "for beam_output in beam_outputs:\n",
        "    print(tokenizer.decode(beam_output))\n",
        "    print(\"\")"
      ],
      "execution_count": null,
      "outputs": []
    }
  ]
}